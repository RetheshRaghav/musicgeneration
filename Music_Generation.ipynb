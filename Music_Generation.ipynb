{
 "cells": [
  {
   "cell_type": "markdown",
   "metadata": {},
   "source": [
    "# Music Generation using Meta's MusicGen "
   ]
  },
  {
   "cell_type": "markdown",
   "metadata": {},
   "source": [
    "### Library imports"
   ]
  },
  {
   "cell_type": "code",
   "execution_count": 1,
   "metadata": {},
   "outputs": [
    {
     "name": "stderr",
     "output_type": "stream",
     "text": [
      "WARNING[XFORMERS]: xFormers can't load C++/CUDA extensions. xFormers was built for:\n",
      "    PyTorch 2.0.1+cu118 with CUDA 1108 (you have 2.0.1+cpu)\n",
      "    Python  3.9.13 (you have 3.9.8)\n",
      "  Please reinstall xformers (see https://github.com/facebookresearch/xformers#installing-xformers)\n",
      "  Memory-efficient attention, SwiGLU, sparse and more won't be available.\n",
      "  Set XFORMERS_MORE_DETAILS=1 for more details\n"
     ]
    }
   ],
   "source": [
    "from audiocraft.models import MusicGen\n",
    "from audiocraft.data.audio import audio_write\n",
    "import torchaudio\n",
    "import gradio as gr\n",
    "import warnings\n",
    "warnings.filterwarnings('ignore')"
   ]
  },
  {
   "cell_type": "markdown",
   "metadata": {},
   "source": [
    "### Model imports"
   ]
  },
  {
   "cell_type": "code",
   "execution_count": null,
   "metadata": {},
   "outputs": [
    {
     "data": {
      "application/vnd.jupyter.widget-view+json": {
       "model_id": "f94a137f3f92453c9c13167fd020dbd3",
       "version_major": 2,
       "version_minor": 0
      },
      "text/plain": [
       "Downloading (…)ssion_state_dict.bin:   0%|          | 0.00/236M [00:00<?, ?B/s]"
      ]
     },
     "metadata": {},
     "output_type": "display_data"
    },
    {
     "data": {
      "application/vnd.jupyter.widget-view+json": {
       "model_id": "1907101a547f41d5acd4c2a2936b1aa1",
       "version_major": 2,
       "version_minor": 0
      },
      "text/plain": [
       "Downloading state_dict.bin:   0%|          | 0.00/2.77G [00:00<?, ?B/s]"
      ]
     },
     "metadata": {},
     "output_type": "display_data"
    },
    {
     "name": "stderr",
     "output_type": "stream",
     "text": [
      "Downloading: \"https://dl.fbaipublicfiles.com/demucs/hybrid_transformer/955717e8-8726e21a.th\" to C:\\Users\\rjret/.cache\\torch\\hub\\checkpoints\\955717e8-8726e21a.th\n",
      "100%|██████████| 80.2M/80.2M [01:38<00:00, 851kB/s] \n"
     ]
    },
    {
     "data": {
      "application/vnd.jupyter.widget-view+json": {
       "model_id": "a3ead9cea0244eedb556fdda20d4c5b9",
       "version_major": 2,
       "version_minor": 0
      },
      "text/plain": [
       "Downloading (…)ve/main/spiece.model:   0%|          | 0.00/792k [00:00<?, ?B/s]"
      ]
     },
     "metadata": {},
     "output_type": "display_data"
    },
    {
     "data": {
      "application/vnd.jupyter.widget-view+json": {
       "model_id": "30d6d618ddf041388598f00f8dc665b0",
       "version_major": 2,
       "version_minor": 0
      },
      "text/plain": [
       "Downloading (…)lve/main/config.json:   0%|          | 0.00/1.21k [00:00<?, ?B/s]"
      ]
     },
     "metadata": {},
     "output_type": "display_data"
    },
    {
     "data": {
      "application/vnd.jupyter.widget-view+json": {
       "model_id": "5c4360f387484bcd99fdc2cec42a1edb",
       "version_major": 2,
       "version_minor": 0
      },
      "text/plain": [
       "Downloading model.safetensors:   0%|          | 0.00/892M [00:00<?, ?B/s]"
      ]
     },
     "metadata": {},
     "output_type": "display_data"
    }
   ],
   "source": [
    "model = MusicGen.get_pretrained('melody')"
   ]
  },
  {
   "cell_type": "code",
   "execution_count": null,
   "metadata": {},
   "outputs": [],
   "source": [
    "model.set_generation_params(\n",
    "    use_sampling=True,\n",
    "    top_k=250,\n",
    "    duration=5\n",
    ")"
   ]
  },
  {
   "cell_type": "markdown",
   "metadata": {},
   "source": [
    "### Text-conditional Generation"
   ]
  },
  {
   "cell_type": "code",
   "execution_count": null,
   "metadata": {},
   "outputs": [],
   "source": [
    "def genfromtext(description, duration):\n",
    "    model.set_generation_params(use_sampling=True, duration=duration)   \n",
    "    audio_values = model.generate(descriptions= [description])\n",
    "    return (32000, audio_values.cpu().detach().numpy())"
   ]
  },
  {
   "cell_type": "markdown",
   "metadata": {},
   "source": [
    "### Melody-conditional Generation"
   ]
  },
  {
   "cell_type": "code",
   "execution_count": null,
   "metadata": {},
   "outputs": [],
   "source": [
    "def genfromaudio(melody, description, duration):\n",
    "    model.set_generation_params(use_sampling=True, duration=duration)\n",
    "    melody_waveform, sr = torchaudio.load(melody)\n",
    "    melody_waveform = melody_waveform.unsqueeze(0).repeat(1, 1, 1)\n",
    "    audio_values = model.generate_with_chroma(descriptions=[description],melody_wavs=melody_waveform, melody_sample_rate=sr,progress=True)\n",
    "    return (32000, audio_values.cpu().detach().numpy())"
   ]
  },
  {
   "cell_type": "markdown",
   "metadata": {},
   "source": [
    "### Gradio Interface"
   ]
  },
  {
   "cell_type": "code",
   "execution_count": null,
   "metadata": {},
   "outputs": [],
   "source": [
    "interface1 = gr.Interface(\n",
    "    genfromtext, inputs=[\n",
    "        gr.Text(label=\"Input Text\", interactive=True),\n",
    "        gr.Number(minimum=1, maximum=10, value=5, label=\"Duration\", interactive=True)\n",
    "    ], outputs=[\n",
    "        gr.Audio(type=\"numpy\",label=\"Generated Music\")\n",
    "    ],\n",
    "    description=\"Text-Conditional Generation\")"
   ]
  },
  {
   "cell_type": "code",
   "execution_count": null,
   "metadata": {},
   "outputs": [],
   "source": [
    "interface2 = gr.Interface(\n",
    "    genfromaudio, inputs= [\n",
    "        gr.Audio(source=\"upload\", type=\"filepath\", label=\"Melody (Upload an audio with a max duration of 30sec)\", interactive=True),\n",
    "        gr.Text(label=\"Input Text\", interactive=True),\n",
    "        gr.Number(minimum=1, maximum=10, value=5, label=\"Duration\", interactive=True)\n",
    "    ], outputs=[\n",
    "        gr.Audio(type=\"numpy\", label=\"Generated Music\")\n",
    "    ],\n",
    "    description=\"Melody-Conditional Generation\")"
   ]
  },
  {
   "cell_type": "code",
   "execution_count": null,
   "metadata": {},
   "outputs": [],
   "source": [
    "title = \"Music Generation using Meta's MusicGen\"\n",
    "final_interface = gr.TabbedInterface([interface1, interface2], [\"Text-Conditional\", \"Melody-Conditional (Upload mp3 audio not exceeding 30sec)\"], title=title,theme=gr.themes.Default())\n",
    "final_interface.launch(inbrowser=True)"
   ]
  },
  {
   "cell_type": "code",
   "execution_count": null,
   "metadata": {},
   "outputs": [],
   "source": []
  }
 ],
 "metadata": {
  "kernelspec": {
   "display_name": "Python 3 (ipykernel)",
   "language": "python",
   "name": "python3"
  },
  "language_info": {
   "codemirror_mode": {
    "name": "ipython",
    "version": 3
   },
   "file_extension": ".py",
   "mimetype": "text/x-python",
   "name": "python",
   "nbconvert_exporter": "python",
   "pygments_lexer": "ipython3",
   "version": "3.9.8"
  }
 },
 "nbformat": 4,
 "nbformat_minor": 4
}
